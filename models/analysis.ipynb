{
 "cells": [
  {
   "cell_type": "code",
   "execution_count": 2,
   "metadata": {},
   "outputs": [],
   "source": [
    "import pandas as pd\n",
    "import numpy as np\n",
    "import pickle\n",
    "import seaborn as sns\n",
    "import matplotlib.pyplot as plt"
   ]
  },
  {
   "cell_type": "code",
   "execution_count": 3,
   "metadata": {},
   "outputs": [],
   "source": [
    "train_path = \"TrainTestData/train_data.pickle\"\n",
    "test_path = \"TrainTestData/test_data.pickle\"\n",
    "train_data = pickle.load(open(train_path, \"rb\"))\n",
    "test_data = pickle.load(open(test_path, \"rb\"))"
   ]
  },
  {
   "cell_type": "code",
   "execution_count": 4,
   "metadata": {},
   "outputs": [],
   "source": [
    "X = train_data[\"features\"].copy()\n",
    "X.extend(test_data[\"features\"])\n",
    "\n",
    "y = train_data[\"labels\"].copy()\n",
    "y.extend(test_data[\"labels\"])"
   ]
  },
  {
   "cell_type": "code",
   "execution_count": 5,
   "metadata": {},
   "outputs": [
    {
     "data": {
      "text/plain": [
       "(5801, 5801)"
      ]
     },
     "execution_count": 5,
     "metadata": {},
     "output_type": "execute_result"
    }
   ],
   "source": [
    "len(X), len(y)"
   ]
  },
  {
   "cell_type": "code",
   "execution_count": 6,
   "metadata": {},
   "outputs": [],
   "source": [
    "y.sort()"
   ]
  },
  {
   "cell_type": "code",
   "execution_count": 8,
   "metadata": {},
   "outputs": [],
   "source": [
    "from collections import Counter\n",
    "freq_letter = Counter(y)"
   ]
  },
  {
   "cell_type": "code",
   "execution_count": 10,
   "metadata": {},
   "outputs": [],
   "source": [
    "for symbol, count in freq_letter.items():\n",
    "    freq_letter[symbol] = count / len(y)"
   ]
  },
  {
   "cell_type": "code",
   "execution_count": 11,
   "metadata": {},
   "outputs": [
    {
     "data": {
      "text/plain": [
       "Counter({'A': 0.04723323564902603,\n",
       "         'B': 0.04826754007929667,\n",
       "         'C': 0.04706085157731425,\n",
       "         'D': 0.04757800379244958,\n",
       "         'E': 0.04775038786416135,\n",
       "         'F': 0.04826754007929667,\n",
       "         'G': 0.0480951560075849,\n",
       "         'I': 0.04826754007929667,\n",
       "         'L': 0.0480951560075849,\n",
       "         'M': 0.04688846750560248,\n",
       "         'N': 0.04637131529046716,\n",
       "         'O': 0.04757800379244958,\n",
       "         'P': 0.04757800379244958,\n",
       "         'Q': 0.045337010860196515,\n",
       "         'R': 0.04775038786416135,\n",
       "         'S': 0.0480951560075849,\n",
       "         'T': 0.047922771935873125,\n",
       "         'U': 0.04757800379244958,\n",
       "         'V': 0.0480951560075849,\n",
       "         'W': 0.047922771935873125,\n",
       "         'Y': 0.04826754007929667})"
      ]
     },
     "execution_count": 11,
     "metadata": {},
     "output_type": "execute_result"
    }
   ],
   "source": [
    "freq_letter"
   ]
  },
  {
   "cell_type": "code",
   "execution_count": 12,
   "metadata": {},
   "outputs": [],
   "source": [
    "df = pd.DataFrame(data={\"symbol\": freq_letter.keys(), \"frequency\": freq_letter.values()})"
   ]
  },
  {
   "cell_type": "code",
   "execution_count": 24,
   "metadata": {},
   "outputs": [],
   "source": [
    "# horizontal line (average)\n",
    "avg_x = list(freq_letter.keys())\n",
    "avg_y = [1 / len(freq_letter)] * len(freq_letter)"
   ]
  },
  {
   "cell_type": "code",
   "execution_count": 46,
   "metadata": {},
   "outputs": [
    {
     "data": {
      "text/plain": [
       "[]"
      ]
     },
     "execution_count": 46,
     "metadata": {},
     "output_type": "execute_result"
    },
    {
     "data": {
      "image/png": "[encoded data removed]",
      "text/plain": [
       "<Figure size 640x480 with 1 Axes>"
      ]
     },
     "metadata": {},
     "output_type": "display_data"
    }
   ],
   "source": [
    "fig, ax = plt.subplots()\n",
    "ax.bar(df[\"symbol\"], df[\"frequency\"])\n",
    "ax.plot(avg_x, avg_y, \"r--\")\n",
    "ax.set_xlabel(\"labels\")\n",
    "ax.set_ylabel(\"frequency\")\n",
    "ax.set_title(\"Label Frequency in Dataset\")\n",
    "plt.plot()"
   ]
  },
  {
   "cell_type": "code",
   "execution_count": 38,
   "metadata": {},
   "outputs": [
    {
     "data": {
      "text/plain": [
       "0.9520772280641269"
      ]
     },
     "execution_count": 38,
     "metadata": {},
     "output_type": "execute_result"
    }
   ],
   "source": [
    "freq_letter[\"Q\"] / avg_y[0]"
   ]
  },
  {
   "cell_type": "code",
   "execution_count": 40,
   "metadata": {},
   "outputs": [
    {
     "data": {
      "text/plain": [
       "(0.045337010860196515, 0.047619047619047616, 0.002282036758851101)"
      ]
     },
     "execution_count": 40,
     "metadata": {},
     "output_type": "execute_result"
    }
   ],
   "source": [
    "freq_letter[\"Q\"], avg_y[0], abs(freq_letter[\"Q\"] - avg_y[0])"
   ]
  },
  {
   "cell_type": "code",
   "execution_count": 49,
   "metadata": {},
   "outputs": [
    {
     "data": {
      "text/plain": [
       "(4640, 1161, 0.7998620927426305)"
      ]
     },
     "execution_count": 49,
     "metadata": {},
     "output_type": "execute_result"
    }
   ],
   "source": [
    "len(train_data[\"labels\"]), len(test_data[\"labels\"]), len(train_data[\"labels\"]) / len(X)"
   ]
  },
  {
   "cell_type": "code",
   "execution_count": null,
   "metadata": {},
   "outputs": [],
   "source": []
  }
 ],
 "metadata": {
  "kernelspec": {
   "display_name": "Python 3",
   "language": "python",
   "name": "python3"
  },
  "language_info": {
   "codemirror_mode": {
    "name": "ipython",
    "version": 3
   },
   "file_extension": ".py",
   "mimetype": "text/x-python",
   "name": "python",
   "nbconvert_exporter": "python",
   "pygments_lexer": "ipython3",
   "version": "3.10.12"
  }
 },
 "nbformat": 4,
 "nbformat_minor": 2
}
