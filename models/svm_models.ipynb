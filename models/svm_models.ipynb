{
 "cells": [
  {
   "cell_type": "markdown",
   "metadata": {},
   "source": [
    "# SVM Models"
   ]
  },
  {
   "cell_type": "markdown",
   "metadata": {},
   "source": [
    "## Objective"
   ]
  },
  {
   "cell_type": "markdown",
   "metadata": {},
   "source": [
    "The objective of this notebook is to train and test different SVM models, by changing their hyperparameters, in order to obtain the best SVM model."
   ]
  },
  {
   "cell_type": "markdown",
   "metadata": {},
   "source": [
    "## Loading libraries and data"
   ]
  },
  {
   "cell_type": "code",
   "execution_count": 3,
   "metadata": {},
   "outputs": [],
   "source": [
    "# model library\n",
    "from LibrasModel import LibrasModel, weighted_accuracy_score, weighted_accuracy_scorer\n",
    "\n",
    "# model\n",
    "from sklearn.svm import SVC \n",
    "from sklearn.model_selection import GridSearchCV\n",
    "\n",
    "# loading data\n",
    "import pickle\n",
    "import joblib\n",
    "\n",
    "# other modules\n",
    "import numpy as np\n",
    "from sklearn.metrics import accuracy_score\n",
    "from sklearn.model_selection import cross_val_score"
   ]
  },
  {
   "cell_type": "code",
   "execution_count": 4,
   "metadata": {},
   "outputs": [],
   "source": [
    "# get base_dataset\n",
    "data_path = \"TrainTestData/train_data.pickle\"\n",
    "data = pickle.load(open(data_path, \"rb\"))"
   ]
  },
  {
   "cell_type": "markdown",
   "metadata": {},
   "source": [
    "## Choosing hyperparameters"
   ]
  },
  {
   "cell_type": "code",
   "execution_count": 5,
   "metadata": {},
   "outputs": [],
   "source": [
    "# hyperparameters for first Grid Search\n",
    "param_grid  = {\n",
    "    \"C\": [1, 10, 20],\n",
    "    \"kernel\": [\"poly\", \"rbf\"],\n",
    "    \"gamma\": [\"scale\", 0.1, 1, 5]\n",
    "}"
   ]
  },
  {
   "cell_type": "code",
   "execution_count": 6,
   "metadata": {},
   "outputs": [],
   "source": [
    "def apply_gd(base_model, has_z, data, param_grid):\n",
    "    model = LibrasModel(base_model, has_z=has_z)\n",
    "    X = np.array(data[\"features\"])\n",
    "    y = np.array(data[\"labels\"])\n",
    "    X = model.transform_data(X)\n",
    "    gd = GridSearchCV(model.model, param_grid, scoring=weighted_accuracy_scorer, return_train_score=True, cv=5, n_jobs=-1)\n",
    "    gd.fit(X, y)\n",
    "\n",
    "    cvres = gd.cv_results_ \n",
    "    results = sorted(zip(cvres[\"mean_test_score\"], cvres[\"params\"]), reverse=True, key=lambda x: x[0])\n",
    "    for mean_score, params in results:\n",
    "        print(mean_score, params)"
   ]
  },
  {
   "cell_type": "markdown",
   "metadata": {},
   "source": [
    "## Training"
   ]
  },
  {
   "cell_type": "code",
   "execution_count": 7,
   "metadata": {},
   "outputs": [
    {
     "name": "stdout",
     "output_type": "stream",
     "text": [
      "0.9732853409531863 {'C': 20, 'gamma': 'scale', 'kernel': 'rbf'}\n",
      "0.9729151050560688 {'C': 20, 'gamma': 1, 'kernel': 'rbf'}\n",
      "0.9728999737050319 {'C': 20, 'gamma': 5, 'kernel': 'rbf'}\n",
      "0.9704513188009776 {'C': 1, 'gamma': 5, 'kernel': 'poly'}\n",
      "0.9703599145165249 {'C': 10, 'gamma': 1, 'kernel': 'rbf'}\n",
      "0.9702860729956073 {'C': 10, 'gamma': 5, 'kernel': 'rbf'}\n",
      "0.9697628277749022 {'C': 10, 'gamma': 'scale', 'kernel': 'rbf'}\n",
      "0.9690866404156868 {'C': 20, 'gamma': 'scale', 'kernel': 'poly'}\n",
      "0.9678038387491463 {'C': 10, 'gamma': 5, 'kernel': 'poly'}\n",
      "0.966990787001361 {'C': 20, 'gamma': 5, 'kernel': 'poly'}\n",
      "0.9662674505292301 {'C': 20, 'gamma': 1, 'kernel': 'poly'}\n",
      "0.965160239142449 {'C': 10, 'gamma': 'scale', 'kernel': 'poly'}\n",
      "0.9617402006311375 {'C': 10, 'gamma': 1, 'kernel': 'poly'}\n",
      "0.9519695106213163 {'C': 1, 'gamma': 5, 'kernel': 'rbf'}\n",
      "0.94898879718899 {'C': 20, 'gamma': 0.1, 'kernel': 'rbf'}\n",
      "0.9336544102011896 {'C': 1, 'gamma': 'scale', 'kernel': 'poly'}\n",
      "0.9325286331202809 {'C': 1, 'gamma': 'scale', 'kernel': 'rbf'}\n",
      "0.9313799425943889 {'C': 10, 'gamma': 0.1, 'kernel': 'rbf'}\n",
      "0.9273070468194249 {'C': 1, 'gamma': 1, 'kernel': 'rbf'}\n",
      "0.915015711084371 {'C': 1, 'gamma': 1, 'kernel': 'poly'}\n",
      "0.7327046447587295 {'C': 1, 'gamma': 0.1, 'kernel': 'rbf'}\n",
      "0.3229343462093792 {'C': 20, 'gamma': 0.1, 'kernel': 'poly'}\n",
      "0.25154941518310925 {'C': 10, 'gamma': 0.1, 'kernel': 'poly'}\n",
      "0.059592790212945244 {'C': 1, 'gamma': 0.1, 'kernel': 'poly'}\n"
     ]
    }
   ],
   "source": [
    "# with z\n",
    "apply_gd(SVC(), True, data, param_grid)"
   ]
  },
  {
   "cell_type": "code",
   "execution_count": 8,
   "metadata": {},
   "outputs": [
    {
     "name": "stdout",
     "output_type": "stream",
     "text": [
      "0.9750510665871646 {'C': 20, 'gamma': 5, 'kernel': 'rbf'}\n",
      "0.9732315405519418 {'C': 20, 'gamma': 'scale', 'kernel': 'rbf'}\n",
      "0.9727418904131652 {'C': 10, 'gamma': 5, 'kernel': 'rbf'}\n",
      "0.9709802569518212 {'C': 20, 'gamma': 1, 'kernel': 'rbf'}\n",
      "0.9698974792828968 {'C': 1, 'gamma': 5, 'kernel': 'poly'}\n",
      "0.9687072871083158 {'C': 10, 'gamma': 5, 'kernel': 'poly'}\n",
      "0.9680628301444217 {'C': 20, 'gamma': 'scale', 'kernel': 'poly'}\n",
      "0.9677118878771432 {'C': 10, 'gamma': 'scale', 'kernel': 'rbf'}\n",
      "0.9668765748779323 {'C': 10, 'gamma': 1, 'kernel': 'rbf'}\n",
      "0.9665465973447255 {'C': 20, 'gamma': 5, 'kernel': 'poly'}\n",
      "0.9643325608424025 {'C': 10, 'gamma': 'scale', 'kernel': 'poly'}\n",
      "0.9628975041465306 {'C': 20, 'gamma': 1, 'kernel': 'poly'}\n",
      "0.9590165473753511 {'C': 10, 'gamma': 1, 'kernel': 'poly'}\n",
      "0.9527850050535722 {'C': 1, 'gamma': 5, 'kernel': 'rbf'}\n",
      "0.947050967888677 {'C': 20, 'gamma': 0.1, 'kernel': 'rbf'}\n",
      "0.9368464457556014 {'C': 1, 'gamma': 'scale', 'kernel': 'poly'}\n",
      "0.9312993195388793 {'C': 1, 'gamma': 'scale', 'kernel': 'rbf'}\n",
      "0.9239158081625126 {'C': 10, 'gamma': 0.1, 'kernel': 'rbf'}\n",
      "0.9206493782794286 {'C': 1, 'gamma': 1, 'kernel': 'rbf'}\n",
      "0.9000574770573697 {'C': 1, 'gamma': 1, 'kernel': 'poly'}\n",
      "0.7171069323023739 {'C': 1, 'gamma': 0.1, 'kernel': 'rbf'}\n",
      "0.3076224576655398 {'C': 20, 'gamma': 0.1, 'kernel': 'poly'}\n",
      "0.23150391566145498 {'C': 10, 'gamma': 0.1, 'kernel': 'poly'}\n",
      "0.049432219286182764 {'C': 1, 'gamma': 0.1, 'kernel': 'poly'}\n"
     ]
    }
   ],
   "source": [
    "# without z\n",
    "apply_gd(SVC(), False, data, param_grid)"
   ]
  },
  {
   "cell_type": "markdown",
   "metadata": {},
   "source": [
    "Since the best models used the highest values of gamma and C, we will fine tune the search with even higher values of this hyperparameters"
   ]
  },
  {
   "cell_type": "markdown",
   "metadata": {},
   "source": [
    "## Fine tunning"
   ]
  },
  {
   "cell_type": "code",
   "execution_count": 9,
   "metadata": {},
   "outputs": [],
   "source": [
    "param_grid  = {\n",
    "    \"C\": [20, 30, 40, 50],\n",
    "    \"gamma\": [5, 10, 20],\n",
    "    \"kernel\": [\"rbf\"]\n",
    "}"
   ]
  },
  {
   "cell_type": "code",
   "execution_count": 10,
   "metadata": {},
   "outputs": [
    {
     "name": "stdout",
     "output_type": "stream",
     "text": [
      "0.9750510665871646 {'C': 20, 'gamma': 5, 'kernel': 'rbf'}\n",
      "0.9748414997654449 {'C': 50, 'gamma': 5, 'kernel': 'rbf'}\n",
      "0.9745312235431907 {'C': 40, 'gamma': 5, 'kernel': 'rbf'}\n",
      "0.9738340006564202 {'C': 30, 'gamma': 5, 'kernel': 'rbf'}\n",
      "0.9728940812472409 {'C': 30, 'gamma': 10, 'kernel': 'rbf'}\n",
      "0.9727312185017325 {'C': 20, 'gamma': 10, 'kernel': 'rbf'}\n",
      "0.971979445902498 {'C': 50, 'gamma': 10, 'kernel': 'rbf'}\n",
      "0.9715368893759205 {'C': 40, 'gamma': 10, 'kernel': 'rbf'}\n",
      "0.9662979082570408 {'C': 20, 'gamma': 20, 'kernel': 'rbf'}\n",
      "0.9650933589234592 {'C': 40, 'gamma': 20, 'kernel': 'rbf'}\n",
      "0.9650933589234592 {'C': 50, 'gamma': 20, 'kernel': 'rbf'}\n",
      "0.9648358219562448 {'C': 30, 'gamma': 20, 'kernel': 'rbf'}\n"
     ]
    }
   ],
   "source": [
    "# without z\n",
    "apply_gd(SVC(), False, data, param_grid)"
   ]
  },
  {
   "cell_type": "markdown",
   "metadata": {},
   "source": [
    "## Analysing performance in all metrics"
   ]
  },
  {
   "cell_type": "code",
   "execution_count": 11,
   "metadata": {},
   "outputs": [],
   "source": [
    "from time import time"
   ]
  },
  {
   "cell_type": "code",
   "execution_count": 12,
   "metadata": {},
   "outputs": [],
   "source": [
    "def print_metrics(base_model, data, has_z=False):\n",
    "    model = LibrasModel(base_model, has_z=has_z)\n",
    "    \n",
    "\n",
    "    X = np.array(data[\"features\"])\n",
    "    X_transformed = model.transform_data(X)\n",
    "    y = np.array(data[\"labels\"])\n",
    "    metrics = {\n",
    "        \"acc_w\": weighted_accuracy_score,\n",
    "        \"acc\": accuracy_score\n",
    "    }\n",
    "    model.fit(X, y)\n",
    "    acc_w = cross_val_score(model.model, X_transformed, y, scoring=weighted_accuracy_scorer, cv=5)\n",
    "    acc = cross_val_score(model.model, X_transformed, y, scoring=\"accuracy\", cv=5)\n",
    "\n",
    "    t = time()\n",
    "    model.predict(X)\n",
    "    t = time() - t\n",
    "\n",
    "    print(f\"Weighted Accuracy: {round(100 * np.mean(acc_w), 2)}%\")\n",
    "    print(f\"Accuracy: {round(100 * np.mean(acc), 2)}%\")\n",
    "    print(f\"Time per prediction: {1000 * t / len(y)} ms\")"
   ]
  },
  {
   "cell_type": "code",
   "execution_count": 13,
   "metadata": {},
   "outputs": [],
   "source": [
    "model1 = SVC(C=20, gamma=5, kernel=\"rbf\")\n",
    "model2 = SVC(C=50, gamma=5, kernel=\"rbf\")\n",
    "model3 = SVC(C=40, gamma=5, kernel=\"rbf\")"
   ]
  },
  {
   "cell_type": "code",
   "execution_count": 15,
   "metadata": {},
   "outputs": [
    {
     "name": "stdout",
     "output_type": "stream",
     "text": [
      "Weighted Accuracy: 97.51%\n",
      "Accuracy: 97.18%\n",
      "Time per prediction: 0.09251874068687702 ms\n"
     ]
    }
   ],
   "source": [
    "print_metrics(model1, data)"
   ]
  },
  {
   "cell_type": "code",
   "execution_count": 16,
   "metadata": {},
   "outputs": [
    {
     "name": "stdout",
     "output_type": "stream",
     "text": [
      "Weighted Accuracy: 97.48%\n",
      "Accuracy: 97.24%\n",
      "Time per prediction: 0.08341181894828534 ms\n"
     ]
    }
   ],
   "source": [
    "print_metrics(model2, data)"
   ]
  },
  {
   "cell_type": "code",
   "execution_count": 17,
   "metadata": {},
   "outputs": [
    {
     "name": "stdout",
     "output_type": "stream",
     "text": [
      "Weighted Accuracy: 97.45%\n",
      "Accuracy: 97.18%\n",
      "Time per prediction: 0.08613405556514345 ms\n"
     ]
    }
   ],
   "source": [
    "print_metrics(model3, data)"
   ]
  },
  {
   "cell_type": "markdown",
   "metadata": {},
   "source": [
    "## Conclusion"
   ]
  },
  {
   "cell_type": "markdown",
   "metadata": {},
   "source": [
    "Since the SVM model had much better results compared to the other algorithms, we will consider the top 3 models of this analysis."
   ]
  }
 ],
 "metadata": {
  "kernelspec": {
   "display_name": "Python 3",
   "language": "python",
   "name": "python3"
  },
  "language_info": {
   "codemirror_mode": {
    "name": "ipython",
    "version": 3
   },
   "file_extension": ".py",
   "mimetype": "text/x-python",
   "name": "python",
   "nbconvert_exporter": "python",
   "pygments_lexer": "ipython3",
   "version": "3.10.12"
  }
 },
 "nbformat": 4,
 "nbformat_minor": 2
}
