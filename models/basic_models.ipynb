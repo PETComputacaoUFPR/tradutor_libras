{
 "cells": [
  {
   "cell_type": "markdown",
   "metadata": {},
   "source": [
    "# Basic Models"
   ]
  },
  {
   "cell_type": "markdown",
   "metadata": {},
   "source": [
    "## Objective"
   ]
  },
  {
   "cell_type": "markdown",
   "metadata": {},
   "source": [
    "The objective of this notebook is to get a general idea of how different transformations and models perform, without changing their hyperparameters.\n",
    "<br><br>\n",
    "Models and transformations that lead to very poor predictions will no be used in future analysis."
   ]
  },
  {
   "cell_type": "markdown",
   "metadata": {},
   "source": [
    "## Loading libraries and data"
   ]
  },
  {
   "cell_type": "code",
   "execution_count": 41,
   "metadata": {},
   "outputs": [],
   "source": [
    "# model library\n",
    "from LibrasModel import LibrasModel, weighted_accuracy_score, weighted_accuracy_scorer\n",
    "\n",
    "# models\n",
    "from sklearn.ensemble import RandomForestClassifier\n",
    "from sklearn.linear_model import SGDClassifier\n",
    "from sklearn.svm import SVC\n",
    "from sklearn.neighbors import KNeighborsClassifier \n",
    "\n",
    "# loading data\n",
    "import pickle\n",
    "import joblib\n",
    "\n",
    "# other modules\n",
    "import numpy as np"
   ]
  },
  {
   "cell_type": "code",
   "execution_count": 42,
   "metadata": {},
   "outputs": [],
   "source": [
    "# get base_dataset\n",
    "data_path = \"TrainTestData/train_data.pickle\"\n",
    "train_data = pickle.load(open(data_path, \"rb\"))"
   ]
  },
  {
   "cell_type": "markdown",
   "metadata": {},
   "source": [
    "## Training Models"
   ]
  },
  {
   "cell_type": "code",
   "execution_count": 43,
   "metadata": {},
   "outputs": [],
   "source": [
    "# list of models and their names (names only to make prints easier)\n",
    "models = [\n",
    "    {\"name\": \"RandomForest\", \"classifier\": RandomForestClassifier(), \"scale\": False},\n",
    "    {\"name\": \"LogisticRegression\", \"classifier\": SGDClassifier(loss=\"log_loss\"), \"scale\": True},\n",
    "    {\"name\": \"SVM\", \"classifier\": SVC(), \"scale\": True},\n",
    "    {\"name\": \"KNN\", \"classifier\": KNeighborsClassifier(), \"scale\": True}\n",
    "]"
   ]
  },
  {
   "cell_type": "code",
   "execution_count": 44,
   "metadata": {},
   "outputs": [],
   "source": [
    "# functions that train the models\n",
    "# returns the model trained and its accuracy in cross val score\n",
    "# if feature scaling is necessary, makes minmax\n",
    "def train_model (type_model, data, has_z=True, cv=5):\n",
    "    X = np.array(data[\"features\"])\n",
    "    y = np.array(data[\"labels\"])\n",
    "\n",
    "    model = LibrasModel(type_model, has_z)\n",
    "    return model.cross_val(X, y, weighted_accuracy_scorer, cv=cv, mean=True)"
   ]
  },
  {
   "cell_type": "code",
   "execution_count": 45,
   "metadata": {},
   "outputs": [
    {
     "name": "stdout",
     "output_type": "stream",
     "text": [
      "RandomForest True 0.9232748592219172\n",
      "RandomForest False 0.9312236462881265\n",
      "LogisticRegression True 0.8353883984635957\n",
      "LogisticRegression False 0.8618296295024763\n",
      "SVM True 0.9325286331202809\n",
      "SVM False 0.9312993195388793\n",
      "KNN True 0.9086503022374846\n",
      "KNN False 0.9130389054007816\n"
     ]
    }
   ],
   "source": [
    "# trains all models and prints their results\n",
    "for model in models:\n",
    "    for option in [True, False]:\n",
    "        accuracy = train_model(model[\"classifier\"], train_data, has_z=option)\n",
    "        print(model[\"name\"], option, accuracy)"
   ]
  },
  {
   "cell_type": "markdown",
   "metadata": {},
   "source": [
    "## Conclusion"
   ]
  },
  {
   "cell_type": "markdown",
   "metadata": {},
   "source": [
    "The Logistic Regression models had the worst performance, and since is lower than the other models by about 10 p.p, it will not be used in further analysis.\n",
    "<br><br>\n",
    "The other models and transformations had good performances overall.\n",
    "<br><br>\n",
    "Therefore, we will explore more the models RandomForest, SVM and KNN, as well as the transformations Minimum and Geometric.\n",
    "<br><br>\n",
    "In Random Forest and KNN, 2D transformations performed better than 3D, but the inverse happened in SVM. Sincethe differences are quite small, we will continue to test all of them."
   ]
  }
 ],
 "metadata": {
  "kernelspec": {
   "display_name": "Python 3",
   "language": "python",
   "name": "python3"
  },
  "language_info": {
   "codemirror_mode": {
    "name": "ipython",
    "version": 3
   },
   "file_extension": ".py",
   "mimetype": "text/x-python",
   "name": "python",
   "nbconvert_exporter": "python",
   "pygments_lexer": "ipython3",
   "version": "3.10.12"
  }
 },
 "nbformat": 4,
 "nbformat_minor": 2
}
